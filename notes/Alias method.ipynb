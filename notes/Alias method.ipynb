{
 "cells": [
  {
   "cell_type": "code",
   "execution_count": 1,
   "metadata": {},
   "outputs": [],
   "source": [
    "import numpy as np"
   ]
  },
  {
   "cell_type": "code",
   "execution_count": 2,
   "metadata": {},
   "outputs": [],
   "source": [
    "def alias_setup(distribution):\n",
    "    n = distribution.shape[0]\n",
    "    alias = np.zeros(n, dtype=np.int)\n",
    "    prob = n * distribution\n",
    "    small = []\n",
    "    large = []\n",
    "    \n",
    "    for i, p in enumerate(prob):\n",
    "        if p < 1:\n",
    "            small.append(i)\n",
    "        else:\n",
    "            large.append(i)\n",
    "    \n",
    "    while len(small) > 0 and len(large) > 0:\n",
    "        l = small.pop()\n",
    "        g = large.pop()\n",
    "        alias[l] = g\n",
    "        prob[g] = prob[g] + prob[l] - 1\n",
    "        if prob[g] < 1:\n",
    "            small.append(g)\n",
    "        else:\n",
    "            large.append(g)\n",
    "    while len(large) > 0:\n",
    "        g = large.pop()\n",
    "        prob[g] = 1\n",
    "    while len(small) > 0:\n",
    "        l = small.pop()\n",
    "        prob[l] = 1\n",
    "        \n",
    "    return prob, alias"
   ]
  },
  {
   "cell_type": "code",
   "execution_count": 5,
   "metadata": {},
   "outputs": [
    {
     "name": "stdout",
     "output_type": "stream",
     "text": [
      "[0.01818182 0.03636364 0.05454545 0.07272727 0.09090909 0.10909091\n",
      " 0.12727273 0.14545455 0.16363636 0.18181818]\n"
     ]
    }
   ],
   "source": [
    "dist = np.arange(1, 11)\n",
    "dist = dist / dist.sum()\n",
    "print(dist)"
   ]
  },
  {
   "cell_type": "code",
   "execution_count": 6,
   "metadata": {},
   "outputs": [],
   "source": [
    "prob, alias = alias_setup(dist)"
   ]
  },
  {
   "cell_type": "code",
   "execution_count": 7,
   "metadata": {},
   "outputs": [
    {
     "name": "stdout",
     "output_type": "stream",
     "text": [
      "[0.18181818 0.36363636 0.54545455 0.72727273 0.90909091 1.\n",
      " 0.90909091 0.63636364 0.18181818 0.36363636]\n",
      "[8 9 9 9 9 0 5 6 7 8]\n"
     ]
    }
   ],
   "source": [
    "print(prob)\n",
    "print(alias)"
   ]
  },
  {
   "cell_type": "code",
   "execution_count": 9,
   "metadata": {},
   "outputs": [],
   "source": [
    "# sampling using np.random.choice\n",
    "results1 = np.random.choice(np.arange(10), size=2000, p=dist)"
   ]
  },
  {
   "cell_type": "code",
   "execution_count": 13,
   "metadata": {},
   "outputs": [
    {
     "name": "stdout",
     "output_type": "stream",
     "text": [
      "[0.0195 0.0315 0.057  0.0785 0.09   0.121  0.1165 0.1465 0.162  0.1775]\n"
     ]
    }
   ],
   "source": [
    "simulated_prob1 = np.zeros(10)\n",
    "for i in range(10):\n",
    "    simulated_prob1[i] = np.count_nonzero(results1 == i) / 2000\n",
    "print(simulated_prob1)"
   ]
  },
  {
   "cell_type": "code",
   "execution_count": 18,
   "metadata": {},
   "outputs": [
    {
     "name": "stdout",
     "output_type": "stream",
     "text": [
      "[0.01763 0.03688 0.05447 0.0724  0.09119 0.10836 0.1267  0.14707 0.16318\n",
      " 0.18212]\n"
     ]
    }
   ],
   "source": [
    "# sampling using alias method\n",
    "simulated_prob2 = np.zeros(10)\n",
    "for i in range(100000):\n",
    "    j = np.random.randint(10)\n",
    "    if np.random.rand() < prob[j]:\n",
    "        simulated_prob2[j] += 1\n",
    "    else:\n",
    "        simulated_prob2[alias[j]] += 1\n",
    "simulated_prob2 = simulated_prob2 / 100000\n",
    "print(simulated_prob2)"
   ]
  },
  {
   "cell_type": "code",
   "execution_count": null,
   "metadata": {},
   "outputs": [],
   "source": []
  }
 ],
 "metadata": {
  "kernelspec": {
   "display_name": "Python 3",
   "language": "python",
   "name": "python3"
  },
  "language_info": {
   "codemirror_mode": {
    "name": "ipython",
    "version": 3
   },
   "file_extension": ".py",
   "mimetype": "text/x-python",
   "name": "python",
   "nbconvert_exporter": "python",
   "pygments_lexer": "ipython3",
   "version": "3.8.5"
  }
 },
 "nbformat": 4,
 "nbformat_minor": 4
}
